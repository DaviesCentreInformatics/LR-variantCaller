{
 "cells": [
  {
   "cell_type": "code",
   "execution_count": 1,
   "metadata": {},
   "outputs": [],
   "source": [
    "import sys\n",
    "import os\n",
    "import re"
   ]
  },
  {
   "cell_type": "code",
   "execution_count": 3,
   "metadata": {},
   "outputs": [],
   "source": [
    "dir_path = \"/Users/callummacphillamy/Projects/variantCaller/input_data/raw_fastq/\"\n",
    "dir_contents = os.listdir(dir_path)"
   ]
  },
  {
   "cell_type": "code",
   "execution_count": 7,
   "metadata": {},
   "outputs": [
    {
     "name": "stdout",
     "output_type": "stream",
     "text": [
      "SampleID,fastq\n",
      "\n",
      "SRR12898293,/Users/callummacphillamy/Projects/variantCaller/input_data/raw_fastq/SRR12898293.fastq.gz\n",
      "SRR24678051,/Users/callummacphillamy/Projects/variantCaller/input_data/raw_fastq/SRR24678051.fastq.gz\n",
      "SRR12898316,/Users/callummacphillamy/Projects/variantCaller/input_data/raw_fastq/SRR12898316.fastq.gz\n"
     ]
    }
   ],
   "source": [
    "print(f'SampleID,fastq\\n')\n",
    "for fastq in dir_contents:\n",
    "\tif re.match(\".*fastq.*|.*fq.*\", fastq) is None:\n",
    "\t\tcontinue\n",
    "\tfastq_path = os.path.join(dir_path, fastq)\n",
    "\tsampleID = re.split(r\"[-_\\.]\", os.path.basename(fastq))[0]\n",
    "\tprint(f'{sampleID},{fastq_path}')"
   ]
  },
  {
   "cell_type": "code",
   "execution_count": 9,
   "metadata": {},
   "outputs": [
    {
     "data": {
      "text/plain": [
       "'/Users/callummacphillamy/Projects/variantCaller/nextflow/dir'"
      ]
     },
     "execution_count": 9,
     "metadata": {},
     "output_type": "execute_result"
    }
   ],
   "source": [
    "os.path.abspath('dir')"
   ]
  },
  {
   "cell_type": "code",
   "execution_count": null,
   "metadata": {},
   "outputs": [],
   "source": []
  }
 ],
 "metadata": {
  "kernelspec": {
   "display_name": "variant",
   "language": "python",
   "name": "python3"
  },
  "language_info": {
   "codemirror_mode": {
    "name": "ipython",
    "version": 3
   },
   "file_extension": ".py",
   "mimetype": "text/x-python",
   "name": "python",
   "nbconvert_exporter": "python",
   "pygments_lexer": "ipython3",
   "version": "3.9.18"
  }
 },
 "nbformat": 4,
 "nbformat_minor": 2
}
