{
 "cells": [
  {
   "cell_type": "code",
   "execution_count": 2,
   "id": "e1e636ef",
   "metadata": {},
   "outputs": [],
   "source": [
    "from tqdm import tqdm\n",
    "import re\n",
    "import pandas as pd\n",
    "import numpy as np\n",
    "import seaborn as sns\n",
    "import matplotlib.pyplot as plt\n",
    "from tqdm import tqdm\n",
    "from matplotlib.backends.backend_pdf import PdfPages\n",
    "import os\n",
    "from natsort import natsorted"
   ]
  },
  {
   "cell_type": "code",
   "execution_count": 4,
   "id": "5fe5e25b",
   "metadata": {},
   "outputs": [],
   "source": [
    "def plot_snp_coverage(plot_df: pd.DataFrame,\n",
    "                      sample_name: str,\n",
    "                      chrom_sizes_dict: dict,\n",
    "                      centromeres_dict: dict,\n",
    "                      output_dir: str,) -> None:\n",
    "    \"\"\"\n",
    "    Function to plot SNP coverage for a given sample.\n",
    "\n",
    "    Parameters\n",
    "    ----------\n",
    "    plot_df : pd.DataFrame\n",
    "        DataFrame containing coverage data.\n",
    "    sample_name : str\n",
    "        Name of the sample.\n",
    "    chrom_sizes_dict : dict\n",
    "        Dictionary containing chromosome sizes.\n",
    "    centromeres_dict : dict\n",
    "        Dictionary containing centromere locations.\n",
    "    output_dir : str\n",
    "        Directory to save the plots.\n",
    "\n",
    "    Returns\n",
    "    -------\n",
    "    None\n",
    "        The function saves the plots to a PDF file.\n",
    "        \n",
    "    \"\"\"\n",
    "\n",
    "    # Create the output directory if it doesn't exist\n",
    "    os.makedirs(output_dir, exist_ok=True)\n",
    "    \n",
    "    # Open the PDF file to save the plots to\n",
    "    pdf_path = os.path.join(output_dir,\n",
    "                            f'{sample_name}_coverage.pdf')\n",
    "    \n",
    "    with PdfPages(pdf_path) as pdf:\n",
    "        \n",
    "        fig = plt.figure(figsize=(8.5, 11))\n",
    "        plt.axis('off')  # Hide axes\n",
    "        \n",
    "        # Add title and information text\n",
    "        plt.text(0.5, 0.9, f\"SNP Coverage Analysis for {sample_name}\", \n",
    "                 ha='center', fontsize=20, weight='bold')\n",
    "        pdf.savefig()\n",
    "        plt.close()\n",
    "    \n",
    "        # Loop through each chromosome and plot the coverage\n",
    "        chroms_list = natsorted(list(plot_df['chrom'].unique()))\n",
    "        for chrom in tqdm(chroms_list):\n",
    "        \n",
    "            plt.figure(figsize=(10,5), dpi = 300)\n",
    "            sns.lineplot(data=plot_df[plot_df['chrom'] == str(chrom)],\n",
    "                         x='window_start',\n",
    "                         y='coverage')\n",
    "            \n",
    "            # Add another lineplot for the mean quality. It should be opaque,\n",
    "            # on top of the coverage lineplot, and with a different color.\n",
    "            # sns.lineplot(data=plot_df[plot_df['chrom'] == str(chrom)],\n",
    "            #                 x='window_start',\n",
    "            #                 y='quality',\n",
    "            #                 color='orange',\n",
    "            #                 alpha=0.5)\n",
    "            \n",
    "\n",
    "            plt.title(f'{sample_name} coverage - chromosome {chrom}')\n",
    "            plt.xlabel('Base position (based on window start position)')\n",
    "            plt.ylabel('Mean sliding window coverage')\n",
    "\n",
    "            plt.vlines(x=chrom_sizes_dict[str(chrom)],\n",
    "                       ymin=0,\n",
    "                       ymax=plot_df[plot_df['chrom'] == str(chrom)]['coverage'].max(),\n",
    "                       color='black',\n",
    "                       linestyle='-',\n",
    "                       label='End of chromosome')\n",
    "\n",
    "            plt.hlines(y=plot_df[plot_df['chrom'] == str(chrom)]['coverage'].mean(),\n",
    "                       xmin=0,\n",
    "                       xmax=chrom_sizes_dict[str(chrom)],\n",
    "                       color='red',\n",
    "                       linestyle='--',\n",
    "                       label='Mean coverage')\n",
    "\n",
    "            plt.hlines(y=plot_df[plot_df['chrom'] == str(chrom)]['coverage'].median(),\n",
    "                       xmin=0,\n",
    "                       xmax=chrom_sizes_dict[str(chrom)],\n",
    "                       color='orange',\n",
    "                       linestyle='--',\n",
    "                       label='Median coverage')\n",
    "            \n",
    "            if chrom in centromeres_dict:\n",
    "                # Add an opaque rectangle to the plot to highlight the centromere region\n",
    "                plt.fill_betweenx(y=[0, plot_df[plot_df['chrom'] == str(chrom)]['coverage'].max()],\n",
    "                                  x1=centromeres_dict[str(chrom)][0],\n",
    "                                  x2=centromeres_dict[str(chrom)][1],\n",
    "                                  color='grey',\n",
    "                                  alpha=0.5,\n",
    "                                label='Centromere region')\n",
    "\n",
    "            # Move the legend outside the plot\n",
    "            plt.legend(loc='upper left', bbox_to_anchor=(1, 1), fontsize=8)\n",
    "            plt.tight_layout()\n",
    "            pdf.savefig()\n",
    "            plt.close()\n",
    "\n",
    "def simple_plot_snp_coverage(plot_df: pd.DataFrame,\n",
    "                      sample_name: str,\n",
    "                      chrom_sizes_dict: dict,\n",
    "                      output_dir: str,) -> None:\n",
    "    \"\"\"\n",
    "    Function to plot SNP coverage for a given sample. Same as plot_snp_coverage\n",
    "    but without centromeres.\n",
    "\n",
    "    Parameters\n",
    "    ----------\n",
    "    plot_df : pd.DataFrame\n",
    "        DataFrame containing coverage data.\n",
    "    sample_name : str\n",
    "        Name of the sample.\n",
    "    chrom_sizes_dict : dict\n",
    "        Dictionary containing chromosome sizes.\n",
    "    centromeres_dict : dict\n",
    "        Dictionary containing centromere locations.\n",
    "    output_dir : str\n",
    "        Directory to save the plots.\n",
    "\n",
    "    Returns\n",
    "    -------\n",
    "    None\n",
    "        The function saves the plots to a PDF file.\n",
    "        \n",
    "    \"\"\"\n",
    "\n",
    "    # Create the output directory if it doesn't exist\n",
    "    os.makedirs(output_dir, exist_ok=True)\n",
    "    \n",
    "    # Open the PDF file to save the plots to\n",
    "    pdf_path = os.path.join(output_dir,\n",
    "                            f'{sample_name}_coverage.pdf')\n",
    "    \n",
    "    with PdfPages(pdf_path) as pdf:\n",
    "        \n",
    "        fig = plt.figure(figsize=(8.5, 11))\n",
    "        plt.axis('off')  # Hide axes\n",
    "        \n",
    "        # Add title and information text\n",
    "        plt.text(0.5, 0.9, f\"SNP Coverage Analysis for {sample_name}\", \n",
    "                 ha='center', fontsize=20, weight='bold')\n",
    "        pdf.savefig()\n",
    "        plt.close()\n",
    "    \n",
    "        # Loop through each chromosome and plot the coverage\n",
    "        chroms_list = natsorted(list(plot_df['chrom'].unique()))\n",
    "        for chrom in tqdm(chroms_list):\n",
    "        \n",
    "            plt.figure(figsize=(10,5), dpi = 300)\n",
    "            sns.lineplot(data=plot_df[plot_df['chrom'] == str(chrom)],\n",
    "                         x='window_start',\n",
    "                         y='coverage')\n",
    "            \n",
    "            # Add another lineplot for the mean quality. It should be opaque,\n",
    "            # on top of the coverage lineplot, and with a different color.\n",
    "            # sns.lineplot(data=plot_df[plot_df['chrom'] == str(chrom)],\n",
    "            #                 x='window_start',\n",
    "            #                 y='quality',\n",
    "            #                 color='orange',\n",
    "            #                 alpha=0.5)\n",
    "            \n",
    "\n",
    "            plt.title(f'{sample_name} coverage - chromosome {chrom}')\n",
    "            plt.xlabel('Base position (based on window start position)')\n",
    "            plt.ylabel('Mean sliding window coverage')\n",
    "\n",
    "            plt.vlines(x=chrom_sizes_dict[str(chrom)],\n",
    "                       ymin=0,\n",
    "                       ymax=plot_df[plot_df['chrom'] == str(chrom)]['coverage'].max(),\n",
    "                       color='black',\n",
    "                       linestyle='-',\n",
    "                       label='End of chromosome')\n",
    "\n",
    "            plt.hlines(y=plot_df[plot_df['chrom'] == str(chrom)]['coverage'].mean(),\n",
    "                       xmin=0,\n",
    "                       xmax=chrom_sizes_dict[str(chrom)],\n",
    "                       color='red',\n",
    "                       linestyle='--',\n",
    "                       label='Mean coverage')\n",
    "\n",
    "            plt.hlines(y=plot_df[plot_df['chrom'] == str(chrom)]['coverage'].median(),\n",
    "                       xmin=0,\n",
    "                       xmax=chrom_sizes_dict[str(chrom)],\n",
    "                       color='orange',\n",
    "                       linestyle='--',\n",
    "                       label='Median coverage')\n",
    "\n",
    "            # Move the legend outside the plot\n",
    "            plt.legend(loc='upper left', bbox_to_anchor=(1, 1), fontsize=8)\n",
    "            plt.tight_layout()\n",
    "            pdf.savefig()\n",
    "            plt.close()"
   ]
  },
  {
   "cell_type": "markdown",
   "id": "05166c95",
   "metadata": {},
   "source": [
    "To generate the input data to this notebook, you need to generate a sliding window bed file of the genome or chromosome you want to assess coverage over.\n",
    "\n",
    "```bash\n",
    "bedtools makewindows -g <( cut -f 1,2 ~/Projects/REFERENCES/UOA_WAGYU/UOA_Wagyu_1.withY.fa.fai) \\\n",
    "    -w 100000 \\\n",
    "    -s 50000 \\\n",
    "    -i srcwinnum > UOA_Wagyu_1.withY.100Kb.50Kbstep.bed\n",
    "```\n",
    "\n",
    "Then you need to intersect this bed file with the VCF file of interest.\n",
    "\n",
    "```bash\n",
    "bedtools intersect -a sample01.vcf.gz \\\n",
    "    -b UOA_Wagyu_1.withY.100Kb.50Kbstep.bed \\\n",
    "    -wb > sample01.SNP.bins.tsv\n",
    "```"
   ]
  },
  {
   "cell_type": "code",
   "execution_count": 5,
   "id": "1d164008",
   "metadata": {},
   "outputs": [],
   "source": [
    "# Set the paths to the chrom sizes and centromere files.\n",
    "\n",
    "CHROM_SIZES = '/Users/callummacphillamy/Projects/REFERENCES/ARS_UCD2.0/ARS_UCD_v2.0.chrom.sizes'\n",
    "# CENTROMERES = '~/Projects/REFERENCES/UOA_WAGYU/wagyu_centromere_location.txt'\n",
    "\n",
    "# Load the chrom sizes and make a dictionary.\n",
    "chrom_sizes = pd.read_csv(CHROM_SIZES, sep='\\t', header=None,\n",
    "                          names=['chrom', 'start', 'size'])\n",
    "chrom_sizes_dict = {chrom:size for chrom, size in zip(chrom_sizes['chrom'], chrom_sizes['size'])}\n",
    "\n",
    "\n",
    "# Load the centromeres and make a dictionary.\n",
    "# centromeres = pd.read_csv(CENTROMERES, sep='\\t', header=None,\n",
    "#                           names=['chromosome','start','end'])\n",
    "# centromeres_dict = {k:(v) for k, v in zip(centromeres['chromosome'], zip(centromeres['start'], centromeres['end']))}\n",
    "\n",
    "# Set the output directory for the plots.\n",
    "os.makedirs('../SNP_analyses/coverage_plots/ARS_Ref', exist_ok=True)"
   ]
  },
  {
   "cell_type": "code",
   "execution_count": 6,
   "id": "77b549c8",
   "metadata": {},
   "outputs": [
    {
     "data": {
      "text/plain": [
       "{'1': 158534110,\n",
       " '2': 136231102,\n",
       " '3': 121005158,\n",
       " '4': 120000601,\n",
       " '5': 120089316,\n",
       " '6': 117806340,\n",
       " '7': 110682743,\n",
       " '8': 113319770,\n",
       " '9': 105454467,\n",
       " '10': 103308737,\n",
       " '11': 106982474,\n",
       " '12': 87216183,\n",
       " '13': 83472345,\n",
       " '14': 82403003,\n",
       " '15': 85007780,\n",
       " '16': 81013979,\n",
       " '17': 73167244,\n",
       " '18': 65820629,\n",
       " '19': 63449741,\n",
       " '20': 71974595,\n",
       " '21': 69862954,\n",
       " '22': 60773035,\n",
       " '23': 52498615,\n",
       " '24': 62317253,\n",
       " '25': 42350435,\n",
       " '26': 51992305,\n",
       " '27': 45612108,\n",
       " '28': 45940150,\n",
       " '29': 51098607,\n",
       " 'X': 139009144,\n",
       " 'Y': 59476289}"
      ]
     },
     "execution_count": 6,
     "metadata": {},
     "output_type": "execute_result"
    }
   ],
   "source": [
    "chrom_sizes_dict"
   ]
  },
  {
   "cell_type": "code",
   "execution_count": 7,
   "id": "53b0c69a",
   "metadata": {},
   "outputs": [],
   "source": [
    "col_names = ['chrom','pos','id','ref','alt','qual','filter','info', 'format',\n",
    "             'sample','window_chrom','window_start','window_end', 'window_id']\n",
    "\n",
    "# coverage = pd.read_csv('../SNP_analyses/genotypes/clair3_rerun/sample01.clair3.sliding.coverage.tsv',\n",
    "#                        sep='\\t', header=0, names=col_names,\n",
    "#                        dtype={0:str,\n",
    "#                               10:str})"
   ]
  },
  {
   "cell_type": "code",
   "execution_count": 8,
   "id": "0aaa0d0a",
   "metadata": {},
   "outputs": [
    {
     "name": "stdout",
     "output_type": "stream",
     "text": [
      "Processing sample01\n",
      "Loading coverage data\n",
      "Extracting depth from coverage data\n",
      "Generating plotting dataframe\n"
     ]
    },
    {
     "name": "stderr",
     "output_type": "stream",
     "text": [
      "100%|██████████| 31/31 [00:02<00:00, 11.06it/s]\n"
     ]
    },
    {
     "name": "stdout",
     "output_type": "stream",
     "text": [
      "Processing sample02\n",
      "Loading coverage data\n",
      "Extracting depth from coverage data\n",
      "Generating plotting dataframe\n"
     ]
    },
    {
     "name": "stderr",
     "output_type": "stream",
     "text": [
      "100%|██████████| 31/31 [00:02<00:00, 12.44it/s]\n"
     ]
    },
    {
     "name": "stdout",
     "output_type": "stream",
     "text": [
      "Processing sample03\n",
      "Loading coverage data\n",
      "Extracting depth from coverage data\n",
      "Generating plotting dataframe\n"
     ]
    },
    {
     "name": "stderr",
     "output_type": "stream",
     "text": [
      "100%|██████████| 31/31 [00:02<00:00, 11.52it/s]\n"
     ]
    },
    {
     "name": "stdout",
     "output_type": "stream",
     "text": [
      "Processing sample04\n",
      "Loading coverage data\n",
      "Extracting depth from coverage data\n",
      "Generating plotting dataframe\n"
     ]
    },
    {
     "name": "stderr",
     "output_type": "stream",
     "text": [
      "100%|██████████| 31/31 [00:02<00:00, 12.32it/s]\n"
     ]
    },
    {
     "name": "stdout",
     "output_type": "stream",
     "text": [
      "Processing sample05\n",
      "Loading coverage data\n",
      "Extracting depth from coverage data\n",
      "Generating plotting dataframe\n"
     ]
    },
    {
     "name": "stderr",
     "output_type": "stream",
     "text": [
      "100%|██████████| 31/31 [00:02<00:00, 12.00it/s]\n"
     ]
    },
    {
     "name": "stdout",
     "output_type": "stream",
     "text": [
      "Processing sample06\n",
      "Loading coverage data\n",
      "Extracting depth from coverage data\n",
      "Generating plotting dataframe\n"
     ]
    },
    {
     "name": "stderr",
     "output_type": "stream",
     "text": [
      "100%|██████████| 31/31 [00:02<00:00, 11.89it/s]\n"
     ]
    },
    {
     "name": "stdout",
     "output_type": "stream",
     "text": [
      "Processing sample07\n",
      "Loading coverage data\n",
      "Extracting depth from coverage data\n",
      "Generating plotting dataframe\n"
     ]
    },
    {
     "name": "stderr",
     "output_type": "stream",
     "text": [
      "100%|██████████| 31/31 [00:02<00:00, 12.45it/s]\n"
     ]
    },
    {
     "name": "stdout",
     "output_type": "stream",
     "text": [
      "Processing sample08\n",
      "Loading coverage data\n",
      "Extracting depth from coverage data\n",
      "Generating plotting dataframe\n"
     ]
    },
    {
     "name": "stderr",
     "output_type": "stream",
     "text": [
      "100%|██████████| 31/31 [00:02<00:00, 12.55it/s]\n"
     ]
    },
    {
     "name": "stdout",
     "output_type": "stream",
     "text": [
      "Processing sample09\n",
      "Loading coverage data\n",
      "Extracting depth from coverage data\n",
      "Generating plotting dataframe\n"
     ]
    },
    {
     "name": "stderr",
     "output_type": "stream",
     "text": [
      "100%|██████████| 31/31 [00:02<00:00, 12.45it/s]\n"
     ]
    },
    {
     "name": "stdout",
     "output_type": "stream",
     "text": [
      "Processing sample10\n",
      "Loading coverage data\n",
      "Extracting depth from coverage data\n",
      "Generating plotting dataframe\n"
     ]
    },
    {
     "name": "stderr",
     "output_type": "stream",
     "text": [
      "100%|██████████| 31/31 [00:02<00:00, 11.85it/s]\n"
     ]
    },
    {
     "name": "stdout",
     "output_type": "stream",
     "text": [
      "Processing sample11\n",
      "Loading coverage data\n",
      "Extracting depth from coverage data\n",
      "Generating plotting dataframe\n"
     ]
    },
    {
     "name": "stderr",
     "output_type": "stream",
     "text": [
      "100%|██████████| 31/31 [00:02<00:00, 12.82it/s]\n"
     ]
    },
    {
     "name": "stdout",
     "output_type": "stream",
     "text": [
      "Processing sample12\n",
      "Loading coverage data\n",
      "Extracting depth from coverage data\n",
      "Generating plotting dataframe\n"
     ]
    },
    {
     "name": "stderr",
     "output_type": "stream",
     "text": [
      "100%|██████████| 31/31 [00:02<00:00, 12.76it/s]\n"
     ]
    },
    {
     "name": "stdout",
     "output_type": "stream",
     "text": [
      "Processing sample13\n",
      "Loading coverage data\n",
      "Extracting depth from coverage data\n",
      "Generating plotting dataframe\n"
     ]
    },
    {
     "name": "stderr",
     "output_type": "stream",
     "text": [
      "100%|██████████| 31/31 [00:02<00:00, 12.46it/s]\n"
     ]
    },
    {
     "name": "stdout",
     "output_type": "stream",
     "text": [
      "Processing sample14\n",
      "Loading coverage data\n",
      "Extracting depth from coverage data\n",
      "Generating plotting dataframe\n"
     ]
    },
    {
     "name": "stderr",
     "output_type": "stream",
     "text": [
      "100%|██████████| 31/31 [00:02<00:00, 12.72it/s]\n"
     ]
    },
    {
     "name": "stdout",
     "output_type": "stream",
     "text": [
      "Processing sample15\n",
      "Loading coverage data\n",
      "Extracting depth from coverage data\n",
      "Generating plotting dataframe\n"
     ]
    },
    {
     "name": "stderr",
     "output_type": "stream",
     "text": [
      "100%|██████████| 31/31 [00:02<00:00, 12.54it/s]\n"
     ]
    },
    {
     "name": "stdout",
     "output_type": "stream",
     "text": [
      "Processing sample16\n",
      "Loading coverage data\n",
      "Extracting depth from coverage data\n",
      "Generating plotting dataframe\n"
     ]
    },
    {
     "name": "stderr",
     "output_type": "stream",
     "text": [
      "100%|██████████| 31/31 [00:02<00:00, 12.28it/s]\n"
     ]
    },
    {
     "name": "stdout",
     "output_type": "stream",
     "text": [
      "Processing sample17\n",
      "Loading coverage data\n",
      "Extracting depth from coverage data\n",
      "Generating plotting dataframe\n"
     ]
    },
    {
     "name": "stderr",
     "output_type": "stream",
     "text": [
      "100%|██████████| 31/31 [00:02<00:00, 12.42it/s]\n"
     ]
    },
    {
     "name": "stdout",
     "output_type": "stream",
     "text": [
      "Processing sample18\n",
      "Loading coverage data\n",
      "Extracting depth from coverage data\n",
      "Generating plotting dataframe\n"
     ]
    },
    {
     "name": "stderr",
     "output_type": "stream",
     "text": [
      "100%|██████████| 31/31 [00:02<00:00, 12.51it/s]\n"
     ]
    },
    {
     "name": "stdout",
     "output_type": "stream",
     "text": [
      "Processing sample19\n",
      "Loading coverage data\n",
      "Extracting depth from coverage data\n",
      "Generating plotting dataframe\n"
     ]
    },
    {
     "name": "stderr",
     "output_type": "stream",
     "text": [
      "100%|██████████| 31/31 [00:02<00:00, 12.52it/s]\n"
     ]
    },
    {
     "name": "stdout",
     "output_type": "stream",
     "text": [
      "Processing sample20\n",
      "Loading coverage data\n",
      "Extracting depth from coverage data\n",
      "Generating plotting dataframe\n"
     ]
    },
    {
     "name": "stderr",
     "output_type": "stream",
     "text": [
      "100%|██████████| 31/31 [00:02<00:00, 12.62it/s]\n"
     ]
    }
   ],
   "source": [
    "SAMPLE_NAMES = [f'sample{i:02d}' for i in range(1, 11)]\n",
    "SAMPLE_NAMES.extend([f'sample{i}' for i in range(11, 21)])\n",
    "\n",
    "\n",
    "for SAMPLE_NAME in SAMPLE_NAMES:\n",
    "    print(f'Processing {SAMPLE_NAME}')\n",
    "\n",
    "    # Load the coverage data\n",
    "    print('Loading coverage data')\n",
    "    # Update with the path to the TSV files you made earlier\n",
    "    coverage = pd.read_csv(f'/Users/callummacphillamy/Projects/tuwa_manuscript/TuWa_manuscript/SNP_analyses/genotypes/clair3_rerun/{SAMPLE_NAME}.SNP.bins.tsv',\n",
    "                           sep='\\t', header=0, names=col_names,\n",
    "                           dtype={0:str,\n",
    "                              10:str})\n",
    "    # Extract the DEPTH from the coverage data\n",
    "    # This may change depending on how the VCF file is formatted.\n",
    "    print('Extracting depth from coverage data')\n",
    "    coverage['coverage'] = coverage['sample'].str.split(':').str[2].astype(int)\n",
    "    coverage = coverage.rename(columns={'qual':'quality'})\n",
    "    \n",
    "\n",
    "    print('Generating plotting dataframe')\n",
    "    plot_df = coverage.groupby(['window_id']).agg({'coverage':'mean',\n",
    "                                                   'quality':'mean',\n",
    "                                     'chrom':'first',\n",
    "                                     'window_start':'first'}).reset_index()\n",
    "    \n",
    "    # Uncomment this block if you want to plot the centromeres\n",
    "    # plot_snp_coverage(plot_df=plot_df,\n",
    "    #                   sample_name=SAMPLE_NAME,\n",
    "    #                   chrom_sizes_dict=chrom_sizes_dict,\n",
    "    #                   centromeres_dict=centromeres_dict,\n",
    "    #                   output_dir='../SNP_analyses/coverage_plots/Wagyu_Ref')\n",
    "\n",
    "    # Plot the coverage without centromeres. If you want the centromeres.\n",
    "    # Comment out this block and uncomment the one above.\n",
    "    simple_plot_snp_coverage(plot_df=plot_df,\n",
    "                              sample_name=SAMPLE_NAME,\n",
    "                              chrom_sizes_dict=chrom_sizes_dict,\n",
    "                              output_dir='../SNP_analyses/coverage_plots/ARS_Ref')"
   ]
  },
  {
   "cell_type": "markdown",
   "id": "927f7c2d",
   "metadata": {},
   "source": [
    "It should then look something like [this](../docs//sample01_coverage.pdf)."
   ]
  }
 ],
 "metadata": {
  "kernelspec": {
   "display_name": "grip2ools",
   "language": "python",
   "name": "python3"
  },
  "language_info": {
   "codemirror_mode": {
    "name": "ipython",
    "version": 3
   },
   "file_extension": ".py",
   "mimetype": "text/x-python",
   "name": "python",
   "nbconvert_exporter": "python",
   "pygments_lexer": "ipython3",
   "version": "3.12.8"
  }
 },
 "nbformat": 4,
 "nbformat_minor": 5
}
